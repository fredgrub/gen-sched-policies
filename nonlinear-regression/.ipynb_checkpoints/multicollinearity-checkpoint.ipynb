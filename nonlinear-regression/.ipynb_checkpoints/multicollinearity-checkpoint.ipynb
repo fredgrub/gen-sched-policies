{
 "cells": [
  {
   "cell_type": "markdown",
   "id": "35d174f6-4937-45ff-91f0-95a6bd099c08",
   "metadata": {},
   "source": [
    "# Multicolinearity tests\n",
    "Here we are going to mensure the severity of multicollinearity in our models. Our model base functions are described below:\n",
    "$$\n",
    "\\begin{equation*}\n",
    "\\begin{split}\n",
    "Lin(j) & = \\theta_0 + \\theta_1 p_j + \\theta_2 q_j + \\theta_3 r_j\\\\\n",
    "Sq(j) & = Lin(j) + \\theta_4 p_j^2 + \\theta_5 q_j^2 + \\theta_6 r_j^2 + \\theta_7 pq\\\\\n",
    "Cub(j) & = Sq(j) + \\theta_8 p_j^3 + \\theta_{9} q_j^3 + \\theta_{10} r_j^3 + \\theta_{11} p^2q + \\theta_{12} pq^2 + \\theta_{13} (pq)^2\\\\\n",
    "Qua(j) & = Cub(j) + \\theta_{14} p_j^4 + \\theta_{15} q_j^4 + \\theta_{16} r_j^4 + \\theta_{17} p^3q + \\theta_{18} pq^3 + \\theta_{19} (pq)^3\\\\\n",
    "\\end{split}\n",
    "\\end{equation*}\n",
    "$$"
   ]
  },
  {
   "cell_type": "code",
   "execution_count": 1,
   "id": "216f1857-3643-400c-8ea5-d11323c3d4e2",
   "metadata": {},
   "outputs": [],
   "source": [
    "import pandas as pd"
   ]
  },
  {
   "cell_type": "code",
   "execution_count": 2,
   "id": "7ae3aef3-d18c-47b2-817b-8d1a0e5d803e",
   "metadata": {},
   "outputs": [
    {
     "data": {
      "text/html": [
       "<div>\n",
       "<style scoped>\n",
       "    .dataframe tbody tr th:only-of-type {\n",
       "        vertical-align: middle;\n",
       "    }\n",
       "\n",
       "    .dataframe tbody tr th {\n",
       "        vertical-align: top;\n",
       "    }\n",
       "\n",
       "    .dataframe thead th {\n",
       "        text-align: right;\n",
       "    }\n",
       "</style>\n",
       "<table border=\"1\" class=\"dataframe\">\n",
       "  <thead>\n",
       "    <tr style=\"text-align: right;\">\n",
       "      <th></th>\n",
       "      <th>p</th>\n",
       "      <th>q</th>\n",
       "      <th>r</th>\n",
       "      <th>score</th>\n",
       "    </tr>\n",
       "  </thead>\n",
       "  <tbody>\n",
       "    <tr>\n",
       "      <th>0</th>\n",
       "      <td>7955</td>\n",
       "      <td>32</td>\n",
       "      <td>2643</td>\n",
       "      <td>0.032182</td>\n",
       "    </tr>\n",
       "    <tr>\n",
       "      <th>1</th>\n",
       "      <td>20005</td>\n",
       "      <td>2</td>\n",
       "      <td>3085</td>\n",
       "      <td>0.046431</td>\n",
       "    </tr>\n",
       "    <tr>\n",
       "      <th>2</th>\n",
       "      <td>132</td>\n",
       "      <td>1</td>\n",
       "      <td>3092</td>\n",
       "      <td>0.040886</td>\n",
       "    </tr>\n",
       "    <tr>\n",
       "      <th>3</th>\n",
       "      <td>36</td>\n",
       "      <td>4</td>\n",
       "      <td>3100</td>\n",
       "      <td>0.039235</td>\n",
       "    </tr>\n",
       "    <tr>\n",
       "      <th>4</th>\n",
       "      <td>9887</td>\n",
       "      <td>1</td>\n",
       "      <td>3119</td>\n",
       "      <td>0.040176</td>\n",
       "    </tr>\n",
       "  </tbody>\n",
       "</table>\n",
       "</div>"
      ],
      "text/plain": [
       "       p   q     r     score\n",
       "0   7955  32  2643  0.032182\n",
       "1  20005   2  3085  0.046431\n",
       "2    132   1  3092  0.040886\n",
       "3     36   4  3100  0.039235\n",
       "4   9887   1  3119  0.040176"
      ]
     },
     "execution_count": 2,
     "metadata": {},
     "output_type": "execute_result"
    }
   ],
   "source": [
    "data_set = pd.read_csv('score-distribution-2.csv', names=['p', 'q', 'r', 'score'])\n",
    "data_set.head()"
   ]
  },
  {
   "cell_type": "markdown",
   "id": "ab9005e2-7fd8-4209-9a39-d58234585583",
   "metadata": {},
   "source": [
    "## Convert from seconds to minutes/hours\n",
    "I suspect that negative VIF values of $p^2$ and $q^2$ came from computational precision. So converting the values might solve it."
   ]
  },
  {
   "cell_type": "code",
   "execution_count": 3,
   "id": "5974eddf-32de-4a02-b70a-ae8cf641c851",
   "metadata": {},
   "outputs": [
    {
     "data": {
      "text/html": [
       "<div>\n",
       "<style scoped>\n",
       "    .dataframe tbody tr th:only-of-type {\n",
       "        vertical-align: middle;\n",
       "    }\n",
       "\n",
       "    .dataframe tbody tr th {\n",
       "        vertical-align: top;\n",
       "    }\n",
       "\n",
       "    .dataframe thead th {\n",
       "        text-align: right;\n",
       "    }\n",
       "</style>\n",
       "<table border=\"1\" class=\"dataframe\">\n",
       "  <thead>\n",
       "    <tr style=\"text-align: right;\">\n",
       "      <th></th>\n",
       "      <th>p</th>\n",
       "      <th>q</th>\n",
       "      <th>r</th>\n",
       "      <th>score</th>\n",
       "    </tr>\n",
       "  </thead>\n",
       "  <tbody>\n",
       "    <tr>\n",
       "      <th>0</th>\n",
       "      <td>2.209722</td>\n",
       "      <td>32</td>\n",
       "      <td>0.734167</td>\n",
       "      <td>0.032182</td>\n",
       "    </tr>\n",
       "    <tr>\n",
       "      <th>1</th>\n",
       "      <td>5.556944</td>\n",
       "      <td>2</td>\n",
       "      <td>0.856944</td>\n",
       "      <td>0.046431</td>\n",
       "    </tr>\n",
       "    <tr>\n",
       "      <th>2</th>\n",
       "      <td>0.036667</td>\n",
       "      <td>1</td>\n",
       "      <td>0.858889</td>\n",
       "      <td>0.040886</td>\n",
       "    </tr>\n",
       "    <tr>\n",
       "      <th>3</th>\n",
       "      <td>0.010000</td>\n",
       "      <td>4</td>\n",
       "      <td>0.861111</td>\n",
       "      <td>0.039235</td>\n",
       "    </tr>\n",
       "    <tr>\n",
       "      <th>4</th>\n",
       "      <td>2.746389</td>\n",
       "      <td>1</td>\n",
       "      <td>0.866389</td>\n",
       "      <td>0.040176</td>\n",
       "    </tr>\n",
       "  </tbody>\n",
       "</table>\n",
       "</div>"
      ],
      "text/plain": [
       "          p   q         r     score\n",
       "0  2.209722  32  0.734167  0.032182\n",
       "1  5.556944   2  0.856944  0.046431\n",
       "2  0.036667   1  0.858889  0.040886\n",
       "3  0.010000   4  0.861111  0.039235\n",
       "4  2.746389   1  0.866389  0.040176"
      ]
     },
     "execution_count": 3,
     "metadata": {},
     "output_type": "execute_result"
    }
   ],
   "source": [
    "data_set['p'] = data_set['p'] / 3600\n",
    "data_set['r'] = data_set['r'] / 3600\n",
    "data_set.head()"
   ]
  },
  {
   "cell_type": "markdown",
   "id": "bea6e416-d6c0-47dc-bd5d-86aa25f2936d",
   "metadata": {},
   "source": [
    "## Linear"
   ]
  },
  {
   "cell_type": "code",
   "execution_count": 4,
   "id": "dbb7b1cd-1a79-47e7-811e-27a004bc478a",
   "metadata": {},
   "outputs": [],
   "source": [
    "from statsmodels.stats.outliers_influence import variance_inflation_factor"
   ]
  },
  {
   "cell_type": "code",
   "execution_count": 5,
   "id": "67129abd-3bbf-4aa6-b569-beac17a93d5c",
   "metadata": {},
   "outputs": [
    {
     "name": "stdout",
     "output_type": "stream",
     "text": [
      "  feature       VIF\n",
      "0       p  1.328593\n",
      "1       q  1.287783\n",
      "2       r  1.216593\n"
     ]
    }
   ],
   "source": [
    "# the independent variables set\n",
    "X = data_set[['p', 'q', 'r']]\n",
    "\n",
    "def vif_test(X):\n",
    "    # VIF dataframe\n",
    "    vif_data = pd.DataFrame()\n",
    "    vif_data[\"feature\"] = X.columns\n",
    "\n",
    "    # calculating VIF for each feature\n",
    "    vif_data[\"VIF\"] = [variance_inflation_factor(X.values, i)\n",
    "                              for i in range(len(X.columns))]\n",
    "    print(vif_data)\n",
    "\n",
    "vif_test(X)"
   ]
  },
  {
   "cell_type": "markdown",
   "id": "47c02638-dcc4-4aa4-a3d8-28e23a7ba7cd",
   "metadata": {},
   "source": [
    "## Quadratic"
   ]
  },
  {
   "cell_type": "code",
   "execution_count": 6,
   "id": "4ce33476-b12b-4024-a396-8cdf77c8613d",
   "metadata": {},
   "outputs": [
    {
     "name": "stdout",
     "output_type": "stream",
     "text": [
      "  feature       VIF\n",
      "0       p  3.753965\n",
      "1       q  9.384029\n",
      "2       r  5.046083\n",
      "3     p^2  2.520770\n",
      "4     q^2  8.143353\n",
      "5     r^2  4.029256\n",
      "6      pq  3.764781\n"
     ]
    }
   ],
   "source": [
    "X['p^2'] = X['p']**2\n",
    "X['q^2'] = X['q']**2\n",
    "X['r^2'] = X['r']**2\n",
    "X['pq'] = X['p']*X['q']\n",
    "vif_test(X)"
   ]
  },
  {
   "cell_type": "markdown",
   "id": "7b5e7b15-67fc-4b6a-b0cc-771097f561da",
   "metadata": {},
   "source": [
    "## Cubic"
   ]
  },
  {
   "cell_type": "code",
   "execution_count": 7,
   "id": "5bc4d356-a2bc-4299-abd2-642a441e835f",
   "metadata": {},
   "outputs": [
    {
     "name": "stdout",
     "output_type": "stream",
     "text": [
      "   feature         VIF\n",
      "0        p   12.332851\n",
      "1        q   37.313305\n",
      "2        r   19.957551\n",
      "3      p^2   45.999222\n",
      "4      q^2  267.415940\n",
      "5      r^2   72.771584\n",
      "6       pq  125.382358\n",
      "7      p^3   26.051335\n",
      "8      q^3  152.387636\n",
      "9      r^3   31.637796\n",
      "10    p^2q   67.857908\n",
      "11    pq^2  174.528194\n",
      "12  (pq)^2   88.215992\n"
     ]
    }
   ],
   "source": [
    "X['p^3'] = X['p']**3\n",
    "X['q^3'] = X['q']**3\n",
    "X['r^3'] = X['r']**3\n",
    "X['p^2q'] = X['p']**2 * X['q']\n",
    "X['pq^2'] = X['p'] * X['q']**2\n",
    "X['(pq)^2'] = (X['p']*X['q'])**2\n",
    "vif_test(X)"
   ]
  },
  {
   "cell_type": "markdown",
   "id": "2b3bf8ad-79a8-4e2a-901a-08f1f3c265bc",
   "metadata": {},
   "source": [
    "## Quartic"
   ]
  },
  {
   "cell_type": "code",
   "execution_count": 8,
   "id": "42188da7-09c3-4678-af87-ff20ee607a3c",
   "metadata": {},
   "outputs": [
    {
     "name": "stdout",
     "output_type": "stream",
     "text": [
      "   feature           VIF\n",
      "0        p     40.817033\n",
      "1        q    104.123457\n",
      "2        r     56.524822\n",
      "3      p^2    430.451124\n",
      "4      q^2   2841.919021\n",
      "5      r^2    623.116102\n",
      "6       pq    545.328957\n",
      "7      p^3   1301.603746\n",
      "8      q^3  10583.406425\n",
      "9      r^3   1693.612845\n",
      "10    p^2q    863.787873\n",
      "11    pq^2   2148.213272\n",
      "12  (pq)^2   1365.560786\n",
      "13     p^4    448.833803\n",
      "14     q^4   3585.263718\n",
      "15     r^4    528.991699\n",
      "16    p^3q    109.862027\n",
      "17    pq^3    519.405391\n",
      "18  (pq)^3    176.758730\n"
     ]
    }
   ],
   "source": [
    "X['p^4'] = X['p']**4\n",
    "X['q^4'] = X['q']**4\n",
    "X['r^4'] = X['r']**4\n",
    "X['p^3q'] = X['p']**3 * X['q']\n",
    "X['pq^3'] = X['p'] * X['q']**3\n",
    "X['(pq)^3'] = (X['p']*X['q'])**3\n",
    "vif_test(X)"
   ]
  }
 ],
 "metadata": {
  "kernelspec": {
   "display_name": "Python 3 (ipykernel)",
   "language": "python",
   "name": "python3"
  },
  "language_info": {
   "codemirror_mode": {
    "name": "ipython",
    "version": 3
   },
   "file_extension": ".py",
   "mimetype": "text/x-python",
   "name": "python",
   "nbconvert_exporter": "python",
   "pygments_lexer": "ipython3",
   "version": "3.9.10"
  }
 },
 "nbformat": 4,
 "nbformat_minor": 5
}
