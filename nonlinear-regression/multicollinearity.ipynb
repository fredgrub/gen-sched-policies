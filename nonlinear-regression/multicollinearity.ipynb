{
 "cells": [
  {
   "cell_type": "markdown",
   "id": "f4ba8f84-f2a4-4253-8a65-07850dd05bf0",
   "metadata": {},
   "source": [
    "# Caso linear\n",
    "A função linear é descrita da seguinte forma \n",
    "$$\\phi_1(p,q,r) = d_0 + a_1 p + b_1 q + c_1 r$$"
   ]
  },
  {
   "cell_type": "code",
   "execution_count": 1,
   "id": "216f1857-3643-400c-8ea5-d11323c3d4e2",
   "metadata": {},
   "outputs": [],
   "source": [
    "import pandas as pd"
   ]
  },
  {
   "cell_type": "code",
   "execution_count": 4,
   "id": "7ae3aef3-d18c-47b2-817b-8d1a0e5d803e",
   "metadata": {},
   "outputs": [
    {
     "data": {
      "text/html": [
       "<div>\n",
       "<style scoped>\n",
       "    .dataframe tbody tr th:only-of-type {\n",
       "        vertical-align: middle;\n",
       "    }\n",
       "\n",
       "    .dataframe tbody tr th {\n",
       "        vertical-align: top;\n",
       "    }\n",
       "\n",
       "    .dataframe thead th {\n",
       "        text-align: right;\n",
       "    }\n",
       "</style>\n",
       "<table border=\"1\" class=\"dataframe\">\n",
       "  <thead>\n",
       "    <tr style=\"text-align: right;\">\n",
       "      <th></th>\n",
       "      <th>p</th>\n",
       "      <th>q</th>\n",
       "      <th>r</th>\n",
       "      <th>score</th>\n",
       "    </tr>\n",
       "  </thead>\n",
       "  <tbody>\n",
       "    <tr>\n",
       "      <th>0</th>\n",
       "      <td>7955</td>\n",
       "      <td>32</td>\n",
       "      <td>2643</td>\n",
       "      <td>0.032182</td>\n",
       "    </tr>\n",
       "    <tr>\n",
       "      <th>1</th>\n",
       "      <td>20005</td>\n",
       "      <td>2</td>\n",
       "      <td>3085</td>\n",
       "      <td>0.046431</td>\n",
       "    </tr>\n",
       "    <tr>\n",
       "      <th>2</th>\n",
       "      <td>132</td>\n",
       "      <td>1</td>\n",
       "      <td>3092</td>\n",
       "      <td>0.040886</td>\n",
       "    </tr>\n",
       "    <tr>\n",
       "      <th>3</th>\n",
       "      <td>36</td>\n",
       "      <td>4</td>\n",
       "      <td>3100</td>\n",
       "      <td>0.039235</td>\n",
       "    </tr>\n",
       "    <tr>\n",
       "      <th>4</th>\n",
       "      <td>9887</td>\n",
       "      <td>1</td>\n",
       "      <td>3119</td>\n",
       "      <td>0.040176</td>\n",
       "    </tr>\n",
       "  </tbody>\n",
       "</table>\n",
       "</div>"
      ],
      "text/plain": [
       "       p   q     r     score\n",
       "0   7955  32  2643  0.032182\n",
       "1  20005   2  3085  0.046431\n",
       "2    132   1  3092  0.040886\n",
       "3     36   4  3100  0.039235\n",
       "4   9887   1  3119  0.040176"
      ]
     },
     "execution_count": 4,
     "metadata": {},
     "output_type": "execute_result"
    }
   ],
   "source": [
    "data_set = pd.read_csv('score-distribution-2.csv', names=['p', 'q', 'r', 'score'])\n",
    "data_set.head()"
   ]
  },
  {
   "cell_type": "code",
   "execution_count": 5,
   "id": "dbb7b1cd-1a79-47e7-811e-27a004bc478a",
   "metadata": {},
   "outputs": [],
   "source": [
    "from statsmodels.stats.outliers_influence import variance_inflation_factor"
   ]
  },
  {
   "cell_type": "code",
   "execution_count": 50,
   "id": "67129abd-3bbf-4aa6-b569-beac17a93d5c",
   "metadata": {},
   "outputs": [
    {
     "name": "stdout",
     "output_type": "stream",
     "text": [
      "  feature       VIF\n",
      "0       p  1.328593\n",
      "1       q  1.287783\n",
      "2       r  1.216593\n"
     ]
    }
   ],
   "source": [
    "# the independent variables set\n",
    "X = data_set[['p', 'q', 'r']]\n",
    "\n",
    "def vif_test(X):\n",
    "    # VIF dataframe\n",
    "    vif_data = pd.DataFrame()\n",
    "    vif_data[\"feature\"] = X.columns\n",
    "\n",
    "    # calculating VIF for each feature\n",
    "    vif_data[\"VIF\"] = [variance_inflation_factor(X.values, i)\n",
    "                              for i in range(len(X.columns))]\n",
    "    print(vif_data)\n",
    "\n",
    "#normalized_X=(X-X.mean())/X.std()\n",
    "vif_test(X)"
   ]
  },
  {
   "cell_type": "markdown",
   "id": "6a3cea19-9359-4589-b02e-57d70b7fc66a",
   "metadata": {},
   "source": [
    "# Demais funções\n",
    "- Quadrática:\n",
    "$$\\phi_2(p,q,r) = \\phi_1 + a_2 p^2 + b_2 q^2 + c_2 r^2 + \\alpha_{11} pq$$\n",
    "\n",
    "- Cúbica:\n",
    "$$\\phi_3(p,q,r) = \\phi_2 + a_3 p^3 + b_3 q^3 + c_3 r^3 + \\alpha_{21} p^2q + \\alpha_{12} pq^2$$\n",
    "\n",
    "- Quártica:\n",
    "$$\\phi_4(p,q,r) = \\phi_3 + a_4 p^4 + b_4 q^4 + c_4 r^4 + \\alpha_{31} p^3q + \\alpha_{13} pq^3 + \\alpha_{22} (pq)^2$$"
   ]
  },
  {
   "cell_type": "code",
   "execution_count": 51,
   "id": "7f56bb5b-87cc-4f2f-bd03-56735fbae60d",
   "metadata": {},
   "outputs": [],
   "source": [
    "X['q^2'] = X['q']**2\n",
    "# X['q^2'] = X['q']**2\n",
    "# X['r^2'] = X['r']**2\n",
    "# X['pq'] = X['p']*X['q']\n",
    "# normalized_X=(X-X.mean())/X.std()\n",
    "# normalized_X"
   ]
  },
  {
   "cell_type": "code",
   "execution_count": 52,
   "id": "dc6d25af-0c17-491a-acf3-0a5cc732f57c",
   "metadata": {},
   "outputs": [
    {
     "name": "stdout",
     "output_type": "stream",
     "text": [
      "  feature       VIF\n",
      "0       p  1.720621\n",
      "1       q  8.659748\n",
      "2       r  1.342931\n",
      "3     q^2  7.902265\n",
      "4      pq  3.728117\n"
     ]
    }
   ],
   "source": [
    "X['pq'] = X['p']*X['q']\n",
    "vif_test(X)"
   ]
  },
  {
   "cell_type": "code",
   "execution_count": null,
   "id": "27890697-1aa7-42fc-ad52-47c0502e8657",
   "metadata": {},
   "outputs": [],
   "source": []
  }
 ],
 "metadata": {
  "kernelspec": {
   "display_name": "Python 3 (ipykernel)",
   "language": "python",
   "name": "python3"
  },
  "language_info": {
   "codemirror_mode": {
    "name": "ipython",
    "version": 3
   },
   "file_extension": ".py",
   "mimetype": "text/x-python",
   "name": "python",
   "nbconvert_exporter": "python",
   "pygments_lexer": "ipython3",
   "version": "3.9.10"
  }
 },
 "nbformat": 4,
 "nbformat_minor": 5
}
